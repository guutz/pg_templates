{
 "cells": [
  {
   "cell_type": "markdown",
   "metadata": {},
   "source": [
    "update challenge schedule from website\n",
    "\n",
    "determine which things need updates\n",
    "-challenge daily stats\n",
    "-anything still in cleanup\n",
    "-firstpost secondpost newspost\n",
    "\n",
    "for each thing that needs update:\n",
    "-prompt for missing info\n",
    "-generate the txts\n",
    "-email them"
   ]
  },
  {
   "cell_type": "code",
   "execution_count": 8,
   "metadata": {},
   "outputs": [],
   "source": [
    "from challenge import yaml_boi, main, time\n",
    "from get_cleanup import main as info\n",
    "\n",
    "y = yaml_boi()\n",
    "\n",
    "email_contents=[]\n",
    "\n",
    "for u, chs in y.get_needed_updates().items():\n",
    "    for ch in chs:\n",
    "        if u == 'stats':\n",
    "            with open(f\"{time('%Y-%m-%d')}.txt\", 'a') as f:\n",
    "                i = info(update=True, name=ch)\n",
    "                if i == 'EMPTY':\n",
    "                    y[ch]['updates']['stats'] = True\n",
    "                else:\n",
    "                    print(i, file=f)\n",
    "                    email_contents.append(i)\n",
    "        elif u == 'cleanup':\n",
    "            with open(f\"{time('%Y-%m-%d')}.txt\", 'a') as f:\n",
    "                i = info(cleanup=True, name=ch)\n",
    "                if i == 'EMPTY':\n",
    "                    y[ch]['updates']['cleanup'] = True\n",
    "                else:\n",
    "                    print(i, file=f)\n",
    "                    email_contents.append(i)\n",
    "        else:\n",
    "            i = main(\n",
    "                template=ch,\n",
    "                posts=[u+\"post\"]\n",
    "            )\n",
    "            email_contents.append(*i)\n",
    "            #y[ch]['updates'][u] = True\n",
    "y.save()\n"
   ]
  },
  {
   "cell_type": "code",
   "execution_count": 15,
   "metadata": {},
   "outputs": [],
   "source": [
    "mail=\"\"\"\"\"\"\n",
    "if email_contents:\n",
    "    for i in email_contents:\n",
    "        mail+=i\n",
    "        mail+='\\n\\n-------------------\\n\\n'\n",
    "    if mail.count('TODO!') > 0:\n",
    "        mail = \"SOME STUFF NEEDS TO BE FILLED IN HERE FIRST!\" + mail\n",
    "else:\n",
    "    mail = \"There's nothing here!\""
   ]
  },
  {
   "cell_type": "code",
   "execution_count": 16,
   "metadata": {},
   "outputs": [],
   "source": [
    "import yagmail\n",
    "from auth import yagmail_auth\n",
    "\n",
    "with yagmail.SMTP(\"magpie31415@gmail.com\", oauth2_file=yagmail_auth) as yag:\n",
    "    yag.send(\n",
    "        to=\"mgutierrez@primegrid.com\",\n",
    "        subject=f\"PG {time('%Y-%m-%d')}\",\n",
    "        contents=mail,\n",
    "    )"
   ]
  },
  {
   "cell_type": "code",
   "execution_count": 1,
   "metadata": {},
   "outputs": [],
   "source": [
    "from challenge import main, yaml_boi, time\n",
    "\n",
    "y = yaml_boi()"
   ]
  },
  {
   "cell_type": "code",
   "execution_count": null,
   "metadata": {},
   "outputs": [],
   "source": []
  }
 ],
 "metadata": {
  "kernelspec": {
   "display_name": "Python 3.9.13 ('base')",
   "language": "python",
   "name": "python3"
  },
  "language_info": {
   "codemirror_mode": {
    "name": "ipython",
    "version": 3
   },
   "file_extension": ".py",
   "mimetype": "text/x-python",
   "name": "python",
   "nbconvert_exporter": "python",
   "pygments_lexer": "ipython3",
   "version": "3.9.13"
  },
  "orig_nbformat": 4,
  "vscode": {
   "interpreter": {
    "hash": "beef9f66784f3b7c4c6505556e8936564a4da18dc996f7fe5a262edf771ee4cf"
   }
  }
 },
 "nbformat": 4,
 "nbformat_minor": 2
}
