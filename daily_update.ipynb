{
 "cells": [
  {
   "cell_type": "markdown",
   "metadata": {},
   "source": [
    "update challenge schedule from website\n",
    "\n",
    "determine which things need updates\n",
    "-challenge daily stats\n",
    "-anything still in cleanup\n",
    "-firstpost secondpost newspost\n",
    "\n",
    "for each thing that needs update:\n",
    "-prompt for missing info\n",
    "-generate the txts\n",
    "-email them"
   ]
  },
  {
   "cell_type": "code",
   "execution_count": 11,
   "metadata": {},
   "outputs": [
    {
     "name": "stdout",
     "output_type": "stream",
     "text": [
      "{'first': ['Prime Meridian Day Challenge'], 'second': [], 'news': [], 'stats': [], 'cleanup': ['World Space Week Challenge'], 'results': [\"Riemann's Birthday Challenge\", 'World Space Week Challenge']}\n"
     ]
    }
   ],
   "source": [
    "from challenge import update_challenge_yaml, time\n",
    "from datetime import datetime, timedelta\n",
    "\n",
    "        \n"
   ]
  },
  {
   "cell_type": "code",
   "execution_count": null,
   "metadata": {},
   "outputs": [],
   "source": [
    "import yagmail\n",
    "from auth import yagmail_auth\n",
    "\n",
    "with yagmail.SMTP(\"magpie31415@gmail.com\", oauth2_file=yagmail_auth) as yag:\n",
    "    yag.send(\n",
    "        to=\"mgutierrez@primegrid.com\",\n",
    "        subject=\"Test\",\n",
    "        contents=\"This is a test\",\n",
    "    )"
   ]
  }
 ],
 "metadata": {
  "kernelspec": {
   "display_name": "Python 3.9.13 ('base')",
   "language": "python",
   "name": "python3"
  },
  "language_info": {
   "codemirror_mode": {
    "name": "ipython",
    "version": 3
   },
   "file_extension": ".py",
   "mimetype": "text/x-python",
   "name": "python",
   "nbconvert_exporter": "python",
   "pygments_lexer": "ipython3",
   "version": "3.9.13"
  },
  "orig_nbformat": 4,
  "vscode": {
   "interpreter": {
    "hash": "beef9f66784f3b7c4c6505556e8936564a4da18dc996f7fe5a262edf771ee4cf"
   }
  }
 },
 "nbformat": 4,
 "nbformat_minor": 2
}
